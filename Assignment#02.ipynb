{
 "cells": [
  {
   "cell_type": "code",
   "execution_count": 15,
   "metadata": {},
   "outputs": [
    {
     "name": "stdout",
     "output_type": "stream",
     "text": [
      "Enter your English Marks: 90\n",
      "Enter your Math Marks: 80\n",
      "Enter your Physics Marks: 70\n",
      "Enter your Chemistry Marks: 60\n",
      "Enter your History Marks: 50\n",
      "350\n",
      "Congratulations you passed with A+ Grade\n"
     ]
    }
   ],
   "source": [
    "#Q1. Write a program which takes 5 inputs from user for different subject’s \n",
    "# marks, total it and generate mark sheet using grades ?\n",
    "\n",
    "\n",
    "Eng_marks = int(input(\"Enter your English Marks: \"))\n",
    "Math_marks = int(input(\"Enter your Math Marks: \"))\n",
    "Phy_marks = int(input(\"Enter your Physics Marks: \"))\n",
    "Chem_marks = int(input(\"Enter your Chemistry Marks: \"))\n",
    "Hist_marks = int(input(\"Enter your History Marks: \"))\n",
    "\n",
    "Total_Marks = Eng_marks + Math_marks + Phy_marks + Chem_marks + Hist_marks\n",
    "print(Total_Marks)\n",
    "\n",
    "if Total_Marks >=90 or Total_Marks >=80:\n",
    "    print(\"Congratulations you passed with A+ Grade\")\n",
    "elif Total_Marks >=70:\n",
    "    print(\"Congratulations you passed with A Grade\")\n",
    "elif Total_Marks >=60:\n",
    "    print(\"You passed with B Grade\")\n",
    "else:\n",
    "    print(\"Sorry you failed this exam\")\n",
    "    "
   ]
  },
  {
   "cell_type": "code",
   "execution_count": 17,
   "metadata": {},
   "outputs": [
    {
     "name": "stdout",
     "output_type": "stream",
     "text": [
      "Enter a number: 60\n",
      "The Number is even\n"
     ]
    }
   ],
   "source": [
    "# Q2. Write a program which take input from user and identify that the given\n",
    "# number is even or odd?\n",
    "num = int(input(\"Enter a number: \"))\n",
    "if (num % 2) == 0:\n",
    "    print(\"The Number is even\")\n",
    "else:\n",
    "    print(\"The Number is odd\")\n",
    "#"
   ]
  },
  {
   "cell_type": "code",
   "execution_count": 18,
   "metadata": {},
   "outputs": [
    {
     "name": "stdout",
     "output_type": "stream",
     "text": [
      "The length of the list is 5\n"
     ]
    }
   ],
   "source": [
    "# Q3. Write a program which print the length of the list?\n",
    "\n",
    "names = ['Ali', 'Ahmed', 'Umer', 'Faris', 'Haris']\n",
    "print(\"The length of the list is\", len(names))"
   ]
  },
  {
   "cell_type": "code",
   "execution_count": 19,
   "metadata": {},
   "outputs": [
    {
     "name": "stdout",
     "output_type": "stream",
     "text": [
      "The Largest Number of list is 89\n"
     ]
    }
   ],
   "source": [
    "# Q5. Write a Python program to get the largest number from a numeric list.\n",
    "\n",
    "a = [1, 1, 2, 3, 5, 8, 13, 21, 34, 55, 89]\n",
    "print(\"The Largest Number of list is\",max(a))"
   ]
  },
  {
   "cell_type": "code",
   "execution_count": 20,
   "metadata": {},
   "outputs": [
    {
     "name": "stdout",
     "output_type": "stream",
     "text": [
      "The Sum of the list is 232\n"
     ]
    }
   ],
   "source": [
    "# Q4. Write a Python program to sum all the numeric items in a list?\n",
    "\n",
    "a = [1, 1, 2, 3, 5, 8, 13, 21, 34, 55, 89]\n",
    "print(\"The Sum of the list is\",sum(a))"
   ]
  },
  {
   "cell_type": "code",
   "execution_count": null,
   "metadata": {},
   "outputs": [],
   "source": []
  },
  {
   "cell_type": "markdown",
   "metadata": {},
   "source": []
  }
 ],
 "metadata": {
  "kernelspec": {
   "display_name": "Python 3",
   "language": "python",
   "name": "python3"
  },
  "language_info": {
   "codemirror_mode": {
    "name": "ipython",
    "version": 3
   },
   "file_extension": ".py",
   "mimetype": "text/x-python",
   "name": "python",
   "nbconvert_exporter": "python",
   "pygments_lexer": "ipython3",
   "version": "3.7.3"
  }
 },
 "nbformat": 4,
 "nbformat_minor": 2
}
