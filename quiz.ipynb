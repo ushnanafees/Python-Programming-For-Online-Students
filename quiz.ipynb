{
 "cells": [
  {
   "cell_type": "code",
   "execution_count": null,
   "metadata": {},
   "outputs": [],
   "source": [
    "quiz = [\n",
    "    {\n",
    "        \"S.no\" : 1,\n",
    "        \"question\": \"What is your country name?\", \n",
    "        \"options\": [\"Pakistan\",\"America\",\"Germany\",\"Malaysia\"],\n",
    "        \"answer\" : \"Pakistan\"\n",
    "    },\n",
    "    \n",
    "    {\n",
    "        \"S.no\" : 2,\n",
    "        \"question\": \"What is your city name?\", \n",
    "        \"options\": [\"Karachi\",\"Lahore\",\"Islamabad\",\"Peshawar\"],\n",
    "        \"answer\" : \"Karachi\"\n",
    "    },\n",
    "    \n",
    "    {\n",
    "        \"S.no\" : 3,\n",
    "        \"question\": \"What is your capital name?\", \n",
    "        \"options\": [\"Karachi\",\"Lahore\",\"Islamabad\",\"Peshawar\"],\n",
    "        \"answer\" : \"Islamabad\"\n",
    "    },\n",
    "    \n",
    "    {\n",
    "        \"S.no\" : 4,\n",
    "        \"question\": \"What is your Nationality?\", \n",
    "        \"options\": [\"Pakistani\", \"Indian\", \"German\", \"French\"],\n",
    "        \"answer\" : \"Pakistani\"\n",
    "    }\n",
    "    \n",
    "]\n",
    "\n",
    "\n",
    "score = 0\n",
    "for quizes in quiz:\n",
    "    data = str(quizes[\"S.no\"]) + \" - \" + quizes[\"question\"] + \"\\n a) \" + quizes[\"options\"][0] + \"\\n b) \"+ quizes[\"options\"][1] + \"\\n c) \" + quizes[\"options\"][2] + \"\\n d) \" + quizes[\"options\"][3] + \"\\n \\n\" \n",
    "    answer = input(data)\n",
    "    if answer == quizes[\"answer\"]:\n",
    "        score += 1\n",
    "        print(\"Your Answer is correct. Your score is: \" + str(score))\n",
    "    else:\n",
    "        print(\"Your Answer is wrong. Your score is: \" + str(score))\n",
    "    \n",
    "per = 100 * score / len(quiz)\n",
    "print(\"Your percentage is: \" + str(per) + \"%\")\n",
    "        "
   ]
  }
 ],
 "metadata": {
  "kernelspec": {
   "display_name": "Python 3",
   "language": "python",
   "name": "python3"
  },
  "language_info": {
   "codemirror_mode": {
    "name": "ipython",
    "version": 3
   },
   "file_extension": ".py",
   "mimetype": "text/x-python",
   "name": "python",
   "nbconvert_exporter": "python",
   "pygments_lexer": "ipython3",
   "version": "3.7.3"
  }
 },
 "nbformat": 4,
 "nbformat_minor": 2
}
