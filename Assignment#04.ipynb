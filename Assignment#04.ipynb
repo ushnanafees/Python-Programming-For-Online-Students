{
 "cells": [
  {
   "cell_type": "code",
   "execution_count": 2,
   "metadata": {},
   "outputs": [
    {
     "name": "stdout",
     "output_type": "stream",
     "text": [
      "The Person's first_name is Muhammad.\n",
      "The Person's last_name is Ali.\n",
      "The Person's age is 20.\n",
      "The Person's city is Karachi.\n",
      "{'first_name': 'Muhammad', 'last_name': 'Ali', 'age': 20, 'city': 'Karachi'}\n"
     ]
    }
   ],
   "source": [
    "# Question1: \n",
    "\n",
    "Persons = { \n",
    "    \"first_name\"  : \"Muhammad\",\n",
    "    \"last_name\" : \"Ali\",\n",
    "    \"age\" : 20,\n",
    "    \"city\" : \"Karachi\"\n",
    "}\n",
    "\n",
    "# Printing each information of dictionary using loop\n",
    "for each_key , each_value in Persons.items():\n",
    "    print(\"The Person's \" + each_key + \" is \" + str(each_value) + \".\" )\n",
    "\n",
    "# Adding item in dictionary    \n",
    "Persons[\"qualification\"] = \"Matriculation\" \n",
    "\n",
    "# Updating item in dictionary\n",
    "Persons[\"qualification\"] = \"Intermediate\" \n",
    "\n",
    "# Delete item in dctionary\n",
    "del Persons[\"qualification\"] \n",
    "\n",
    "print(Persons)\n"
   ]
  },
  {
   "cell_type": "code",
   "execution_count": 3,
   "metadata": {},
   "outputs": [
    {
     "name": "stdout",
     "output_type": "stream",
     "text": [
      "One of my favorite books is Alice in Wonderland.\n"
     ]
    }
   ],
   "source": [
    "# Question4:\n",
    "\n",
    "def favorite_book(title):\n",
    "    print(\"One of my favorite books is \" + title + \" in Wonderland.\")\n",
    "favorite_book(\"Alice\")\n",
    "    "
   ]
  },
  {
   "cell_type": "code",
   "execution_count": 5,
   "metadata": {},
   "outputs": [
    {
     "name": "stdout",
     "output_type": "stream",
     "text": [
      "Please Enter your age. \n",
      " If your age is 0 the program is stop.8\n",
      "The ticket is $10.\n",
      "\n",
      "Please Enter your age. \n",
      " If your age is 0 the program is stop.11\n",
      "The ticket is $10.\n",
      "\n",
      "Please Enter your age. \n",
      " If your age is 0 the program is stop.45\n",
      "The ticket is $15.\n",
      "\n",
      "Please Enter your age. \n",
      " If your age is 0 the program is stop.0\n"
     ]
    }
   ],
   "source": [
    "# Question3:\n",
    "\n",
    "while True:\n",
    "    \n",
    "    age = int(input(\"Please Enter your age. \\n If your age is 0 the program is stop.\"))\n",
    "    if age == 0:\n",
    "        break\n",
    "        \n",
    "    if age <= 3:\n",
    "        print(\"Your ticket is free \\n\")\n",
    "    elif age <= 3 or age <= 12:\n",
    "        print(\"The ticket is $10.\\n\")\n",
    "    elif age >= 12:\n",
    "        print(\"The ticket is $15.\\n\")\n",
    "    else:\n",
    "        None\n",
    "    "
   ]
  },
  {
   "cell_type": "code",
   "execution_count": 7,
   "metadata": {},
   "outputs": [
    {
     "name": "stdout",
     "output_type": "stream",
     "text": [
      "The information about Karachi is {'country': 'Pakistan', 'population': '15,741,000', 'fact': 'Karachi is city of lights.'}\n",
      "\n",
      "The information about Lahore is {'country': 'Pakistan', 'population': '12,188,000', 'fact': 'Lahore is the capital city of the Pakistan.'}\n",
      "\n",
      "The information about Islamabad is {'country': 'Pakistan', 'population': '1,095,064', 'fact': 'Islamabad is the capital city for the Islamic Republic of Pakistan.'}\n",
      "\n"
     ]
    }
   ],
   "source": [
    "#Question2:\n",
    "\n",
    "cities = {\n",
    "    \"Karachi\" : {\n",
    "        \"country\" : \"Pakistan\",\n",
    "        \"population\" : \"15,741,000\",\n",
    "        \"fact\" : \"Karachi is city of lights.\"\n",
    "    },\n",
    "    \"Lahore\" : {\n",
    "        \"country\" : \"Pakistan\",\n",
    "        \"population\" : \"12,188,000\",\n",
    "        \"fact\" : \"Lahore is the capital city of the Pakistan.\"\n",
    "    },\n",
    "    \"Islamabad\" : {\n",
    "        \"country\" : \"Pakistan\",\n",
    "        \"population\" : \"1,095,064\",\n",
    "        \"fact\" : \"Islamabad is the capital city for the Islamic Republic of Pakistan.\"\n",
    "    }\n",
    "}\n",
    "\n",
    "for each_key, each_value in cities.items():\n",
    "    print(\"The information about \" + str(each_key) + \" is \" + str(each_value) + \"\\n\")\n",
    "\n"
   ]
  },
  {
   "cell_type": "code",
   "execution_count": 12,
   "metadata": {},
   "outputs": [
    {
     "name": "stdout",
     "output_type": "stream",
     "text": [
      "Hello! What is your name?hamza\n",
      "hamza\n",
      "Well, hamza, Please think of a number between 1 and 30.\n",
      "Take a guess.\n",
      "5\n",
      "Your guess is too low.\n",
      "Take a guess.\n",
      "19\n",
      "Your guess is too high.\n",
      "Take a guess.\n",
      "12\n",
      "Your guess is too low.\n",
      "Nope. The number I was thinking of was 13\n"
     ]
    }
   ],
   "source": [
    "# Question5:\n",
    "\n",
    "import random\n",
    "chances = 0\n",
    "\n",
    "my_Name = (input('Hello! What is your name?'))\n",
    "print(my_Name)\n",
    "\n",
    "num = random.randint(1, 30)\n",
    "print('Well, ' + my_Name + ', Please think of a number between 1 and 30.')\n",
    "\n",
    "while chances < 3:\n",
    "    print('Take a guess.') \n",
    "    guess = int(input())\n",
    "    chances = chances + 1\n",
    "    \n",
    "    if guess < num:\n",
    "        print('Your guess is too low.') \n",
    "    if guess > num:\n",
    "        print('Your guess is too high.')\n",
    "    if guess == num:\n",
    "        break\n",
    "\n",
    "if guess == num:\n",
    "    print('Good job, ' + my_Name + '! You guessed my number in ' + str(chances) + ' guesses!')\n",
    "\n",
    "if guess != num:\n",
    "    print('Nope. The number I was thinking of was ' + str(num))"
   ]
  },
  {
   "cell_type": "code",
   "execution_count": null,
   "metadata": {},
   "outputs": [],
   "source": []
  }
 ],
 "metadata": {
  "kernelspec": {
   "display_name": "Python 3",
   "language": "python",
   "name": "python3"
  },
  "language_info": {
   "codemirror_mode": {
    "name": "ipython",
    "version": 3
   },
   "file_extension": ".py",
   "mimetype": "text/x-python",
   "name": "python",
   "nbconvert_exporter": "python",
   "pygments_lexer": "ipython3",
   "version": "3.7.3"
  }
 },
 "nbformat": 4,
 "nbformat_minor": 2
}
