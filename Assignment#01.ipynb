{
 "cells": [
  {
   "cell_type": "code",
   "execution_count": 66,
   "metadata": {},
   "outputs": [
    {
     "name": "stdout",
     "output_type": "stream",
     "text": [
      "Twinkle, twinkle, little star,\n",
      " \t How I wonder what you are!\n",
      " \t \t Up above the world so high,\n",
      " \t \t Like a diamond in the sky.\n",
      " Twinkle, twinkle, little star,\n",
      " \t How I wonder what you are\n"
     ]
    }
   ],
   "source": [
    "#Q1) \n",
    "\n",
    "Line_1 = \"Twinkle, twinkle, little star,\"\n",
    "Line_2 = \"\\n \\t How I wonder what you are!\"\n",
    "Line_3 = \"\\n \\t \\t Up above the world so high,\"\n",
    "Line_4 = \"\\n \\t \\t Like a diamond in the sky.\"\n",
    "Line_5 = \"\\n Twinkle, twinkle, little star,\"\n",
    "Line_6 = \"\\n \\t How I wonder what you are\"\n",
    "\n",
    "Poem = Line_1 + Line_2 + Line_3 + Line_4 + Line_5 + Line_6\n",
    "\n",
    "print(Poem)\n"
   ]
  },
  {
   "cell_type": "code",
   "execution_count": 15,
   "metadata": {},
   "outputs": [
    {
     "name": "stdout",
     "output_type": "stream",
     "text": [
      "Python Version is: 3.7.3 (default, Apr 24 2019, 15:29:51) [MSC v.1915 64 bit (AMD64)]\n",
      "Python Version is: 3.7.3\n"
     ]
    }
   ],
   "source": [
    "# Q2) Write a Python program to get the Python version you are using\n",
    "\n",
    "import sys\n",
    "print(\"Python Version is: \" + sys.version)\n",
    "\n",
    "#OR \n",
    "\n",
    "from platform import python_version\n",
    "version = python_version()\n",
    "print(\"Python Version is:\" + \" \"+ version) \n"
   ]
  },
  {
   "cell_type": "code",
   "execution_count": 36,
   "metadata": {},
   "outputs": [
    {
     "name": "stdout",
     "output_type": "stream",
     "text": [
      "The current date and time is: \n",
      "2019-11-05 09:36:17\n"
     ]
    }
   ],
   "source": [
    "#Q3) Write a Python program to display the current date and time.\n",
    "\n",
    "from datetime import datetime\n",
    "now = datetime.today()\n",
    "print(\"The current date and time is: \")\n",
    "print(now.strftime(\"%Y-%m-%d %H:%M:%S\"))"
   ]
  },
  {
   "cell_type": "code",
   "execution_count": 45,
   "metadata": {},
   "outputs": [
    {
     "name": "stdout",
     "output_type": "stream",
     "text": [
      "Enter the Radius of a Circle: 2\n",
      "The Area of the Circle is: 12.50 \n"
     ]
    }
   ],
   "source": [
    "#Q4) Write a Python program which accepts the radius of a circle from the user and compute the area.\n",
    "\n",
    "r = float(input(\"Enter the Radius of a Circle: \"))\n",
    "Pi = 3.124\n",
    "Formula = Pi * r * r\n",
    "Area = print(\"The Area of the Circle is: %.2f \" %Formula )\n",
    "\n",
    "#OR\n",
    "\n",
    "import math\n",
    "r = float(input(\"Enter the Radius of a Circle: \"))\n",
    "area = math.pi*r*r\n",
    "print(\"The Area of the circle is: %.2f \" %area)"
   ]
  },
  {
   "cell_type": "code",
   "execution_count": 50,
   "metadata": {},
   "outputs": [
    {
     "name": "stdout",
     "output_type": "stream",
     "text": [
      "Ali Muhammad\n"
     ]
    }
   ],
   "source": [
    "#Q5) Write a Python program which accepts the user's first and last name and print them in reverse order with a space between them.\n",
    "\n",
    "first_name = input(\"Enter your First Name: \") #\"Muhammad\"\n",
    "last_name = input(\"Enter your Last Name: \") #\"Ali\"\n",
    "print(last_name + \" \"+ first_name)\n",
    "\n",
    "# OR\n",
    "\n",
    "first_name = \"Muhammad\"\n",
    "last_name = \"Ali\"\n",
    "print(last_name + \" \"+ first_name)\n"
   ]
  },
  {
   "cell_type": "code",
   "execution_count": 52,
   "metadata": {},
   "outputs": [
    {
     "name": "stdout",
     "output_type": "stream",
     "text": [
      "Enter First Number: 3\n",
      "Enter Second Number: 5\n",
      "8\n"
     ]
    }
   ],
   "source": [
    "#Q6) Write a python program which takes two inputs from user and print them addition\n",
    "\n",
    "n1 = int(input(\"Enter First Number: \"))\n",
    "n2 = int(input(\"Enter Second Number: \"))\n",
    "n3 = n1 + n2\n",
    "print(n3)"
   ]
  },
  {
   "cell_type": "code",
   "execution_count": null,
   "metadata": {},
   "outputs": [],
   "source": []
  }
 ],
 "metadata": {
  "kernelspec": {
   "display_name": "Python 3",
   "language": "python",
   "name": "python3"
  },
  "language_info": {
   "codemirror_mode": {
    "name": "ipython",
    "version": 3
   },
   "file_extension": ".py",
   "mimetype": "text/x-python",
   "name": "python",
   "nbconvert_exporter": "python",
   "pygments_lexer": "ipython3",
   "version": "3.7.3"
  }
 },
 "nbformat": 4,
 "nbformat_minor": 2
}
